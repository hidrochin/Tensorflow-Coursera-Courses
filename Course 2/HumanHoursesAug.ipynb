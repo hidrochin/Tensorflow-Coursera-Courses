{
 "cells": [
  {
   "cell_type": "markdown",
   "metadata": {},
   "source": [
    "# Training with ImageDataGenerator"
   ]
  },
  {
   "cell_type": "markdown",
   "metadata": {},
   "source": [
    "download horse-or-human.zip: open cmd and run this command below (in window sys):  \n",
    "curl -o horse-or-human.zip https://storage.googleapis.com/tensorflow-1-public/course2/week3/horse-or-human.zip\n",
    "  \n",
    "download validation-horse-or-human.zip: open cmd and run this command below (in window sys ):  \n",
    "curl -o validation-horse-or-human.zip https://storage.googleapis.com/tensorflow-1-public/course2/week3/validation-horse-or-human.zip\n"
   ]
  },
  {
   "cell_type": "code",
   "execution_count": 1,
   "metadata": {},
   "outputs": [],
   "source": [
    "import os\n",
    "\n",
    "#directory with training horses pictures\n",
    "train_horse_dir = os.path.join('E:/machine learning/Course 1/horse-or-human/horses')\n",
    "\n",
    "#directory with training human pitures\n",
    "train_human_dir = os.path.join('E:/machine learning/Course 1/horse-or-human/humans')\n",
    "\n",
    "#directory with validation horses pictures\n",
    "validation_horse_dir = os.path.join('E:/machine learning/Course 1/validation-horse-or-human/horses/')\n",
    "\n",
    "#directory with validation human pictures\n",
    "validation_human_dir = os.path.join('E:/machine learning/Course 1/validation-horse-or-human/humans/')"
   ]
  },
  {
   "cell_type": "code",
   "execution_count": 2,
   "metadata": {},
   "outputs": [
    {
     "name": "stdout",
     "output_type": "stream",
     "text": [
      "['horse01-0.png', 'horse01-1.png', 'horse01-2.png', 'horse01-3.png', 'horse01-4.png', 'horse01-5.png', 'horse01-6.png', 'horse01-7.png', 'horse01-8.png', 'horse01-9.png']\n",
      "['human01-00.png', 'human01-01.png', 'human01-02.png', 'human01-03.png', 'human01-04.png', 'human01-05.png', 'human01-06.png', 'human01-07.png', 'human01-08.png', 'human01-09.png']\n",
      "['horse1-000.png', 'horse1-105.png', 'horse1-122.png', 'horse1-127.png', 'horse1-170.png', 'horse1-204.png', 'horse1-224.png', 'horse1-241.png', 'horse1-264.png', 'horse1-276.png']\n",
      "['valhuman01-00.png', 'valhuman01-01.png', 'valhuman01-02.png', 'valhuman01-03.png', 'valhuman01-04.png', 'valhuman01-05.png', 'valhuman01-06.png', 'valhuman01-07.png', 'valhuman01-08.png', 'valhuman01-09.png']\n",
      "total training horse images: 500\n",
      "total training human images: 527\n",
      "total validation horse images: 128\n",
      "total validation human images: 128\n"
     ]
    }
   ],
   "source": [
    "train_horse_names = os.listdir(train_horse_dir)\n",
    "print(train_horse_names[:10])\n",
    "\n",
    "train_human_names = os.listdir(train_human_dir)\n",
    "print(train_human_names[:10])\n",
    "\n",
    "validation_horse_names = os.listdir(validation_horse_dir)\n",
    "print(validation_horse_names[:10])\n",
    "\n",
    "validation_human_name = os.listdir(validation_human_dir)\n",
    "print(validation_human_name[:10])\n",
    "\n",
    "print('total training horse images:', len(os.listdir(train_horse_dir)))\n",
    "print('total training human images:', len(os.listdir(train_human_dir)))\n",
    "print('total validation horse images:', len(os.listdir(validation_horse_dir)))\n",
    "print('total validation human images:', len(os.listdir(validation_human_dir)))"
   ]
  },
  {
   "cell_type": "code",
   "execution_count": 5,
   "metadata": {},
   "outputs": [
    {
     "name": "stdout",
     "output_type": "stream",
     "text": [
      "Model: \"sequential\"\n",
      "_________________________________________________________________\n",
      " Layer (type)                Output Shape              Param #   \n",
      "=================================================================\n",
      " conv2d (Conv2D)             (None, 298, 298, 16)      448       \n",
      "                                                                 \n",
      " max_pooling2d (MaxPooling2  (None, 149, 149, 16)      0         \n",
      " D)                                                              \n",
      "                                                                 \n",
      " conv2d_1 (Conv2D)           (None, 147, 147, 32)      4640      \n",
      "                                                                 \n",
      " max_pooling2d_1 (MaxPoolin  (None, 73, 73, 32)        0         \n",
      " g2D)                                                            \n",
      "                                                                 \n",
      " conv2d_2 (Conv2D)           (None, 71, 71, 64)        18496     \n",
      "                                                                 \n",
      " max_pooling2d_2 (MaxPoolin  (None, 35, 35, 64)        0         \n",
      " g2D)                                                            \n",
      "                                                                 \n",
      " conv2d_3 (Conv2D)           (None, 33, 33, 64)        36928     \n",
      "                                                                 \n",
      " max_pooling2d_3 (MaxPoolin  (None, 16, 16, 64)        0         \n",
      " g2D)                                                            \n",
      "                                                                 \n",
      " conv2d_4 (Conv2D)           (None, 14, 14, 64)        36928     \n",
      "                                                                 \n",
      " max_pooling2d_4 (MaxPoolin  (None, 7, 7, 64)          0         \n",
      " g2D)                                                            \n",
      "                                                                 \n",
      " flatten (Flatten)           (None, 3136)              0         \n",
      "                                                                 \n",
      " dense (Dense)               (None, 512)               1606144   \n",
      "                                                                 \n",
      " dense_1 (Dense)             (None, 1)                 513       \n",
      "                                                                 \n",
      "=================================================================\n",
      "Total params: 1704097 (6.50 MB)\n",
      "Trainable params: 1704097 (6.50 MB)\n",
      "Non-trainable params: 0 (0.00 Byte)\n",
      "_________________________________________________________________\n"
     ]
    }
   ],
   "source": [
    "import tensorflow as tf\n",
    "\n",
    "model = tf.keras.models.Sequential([\n",
    "    #this input shape is desired size of 300x300 cells and 3 bytes colors\n",
    "    # the first convolution\n",
    "    tf.keras.layers.Conv2D(16, (3,3), activation='relu', input_shape=(300, 300, 3)),\n",
    "    tf.keras.layers.MaxPooling2D(2, 2),\n",
    "    #the second convolution\n",
    "    tf.keras.layers.Conv2D(32, (3,3), activation='relu'),\n",
    "    tf.keras.layers.MaxPooling2D(2,2),\n",
    "    #the third convolution\n",
    "    tf.keras.layers.Conv2D(64, (3,3), activation='relu'),\n",
    "    tf.keras.layers.MaxPooling2D(2,2),\n",
    "    #the fourth convolution\n",
    "    tf.keras.layers.Conv2D(64, (3,3), activation='relu'),\n",
    "    tf.keras.layers.MaxPooling2D(2,2),\n",
    "    #the fifth convolution\n",
    "    tf.keras.layers.Conv2D(64, (3,3), activation='relu'),\n",
    "    tf.keras.layers.MaxPooling2D(2,2),\n",
    "    #flatten layers to feed the output\n",
    "    tf.keras.layers.Flatten(),\n",
    "    tf.keras.layers.Dense(512, activation='relu'),\n",
    "    tf.keras.layers.Dense(1, activation='sigmoid')\n",
    "])\n",
    "\n",
    "model.summary()"
   ]
  },
  {
   "cell_type": "code",
   "execution_count": 6,
   "metadata": {},
   "outputs": [],
   "source": [
    "from tensorflow.keras.optimizers import RMSprop\n",
    "\n",
    "model.compile(loss='binary_crossentropy',\n",
    "                optimizer=RMSprop(learning_rate=0.001),\n",
    "                metrics=['accuracy'])"
   ]
  },
  {
   "cell_type": "markdown",
   "metadata": {},
   "source": [
    "## Data preprocessing\n",
    "Next step is to set up the data generators that will read pictures in the source folders, convert them to *float32* tensors, and feed them (with their labels) to the model. You'll have one generator for the training images and one for the validation images. These generators will yield batches of images of size 300x300 and their labels (binary).\n",
    "\n",
    "As you may already know, data that goes into neural networks should usually be normalized in some way to make it more amenable to processing by the network (i.e. It is uncommon to feed raw pixels into a ConvNet.) In this case, you will preprocess the images by normalizing the pixel values to be in the *[0, 1]* range (originally all values are in the *[0, 255]* range).\n",
    "\n",
    "In Keras, this can be done via the *keras.preprocessing.image.ImageDataGenerator* class using the *rescale* parameter. This *ImageDataGenerator class* allows you to instantiate generators of augmented image batches (and their labels) via *.flow(data, labels)* or *.flow_from_directory(directory)*."
   ]
  },
  {
   "cell_type": "code",
   "execution_count": 25,
   "metadata": {},
   "outputs": [
    {
     "name": "stdout",
     "output_type": "stream",
     "text": [
      "Found 1027 images belonging to 2 classes.\n",
      "Found 256 images belonging to 2 classes.\n"
     ]
    }
   ],
   "source": [
    "from tensorflow.keras.preprocessing.image import ImageDataGenerator\n",
    "\n",
    "# all images will be rescaled by 1/255.\n",
    "train_datagen = ImageDataGenerator(\n",
    "    rescale = 1/255,\n",
    "    rotation_range=40,\n",
    "    width_shift_range=0.2,\n",
    "    height_shift_range=0.2,\n",
    "    shear_range=0.2,\n",
    "    zoom_range=0.2,\n",
    "    horizontal_flip=True,\n",
    "    fill_mode='nearest')\n",
    "validation_datagen = ImageDataGenerator(rescale = 1/255)\n",
    "\n",
    "#flow training data in batches of 128 using train data generator\n",
    "train_generator = train_datagen.flow_from_directory(\n",
    "    'E:/machine learning/Course 1/horse-or-human/', #source directory for image data\n",
    "    target_size=(300, 300),\n",
    "    batch_size=128,\n",
    "    #since we use binary_crossentropy loss, we need binary labels\n",
    "    class_mode='binary'\n",
    ")\n",
    "\n",
    "#flow validation data in batches of 128 using validation data generator\n",
    "validation_generator = validation_datagen.flow_from_directory(\n",
    "    'E:/machine learning/Course 1/validation-horse-or-human/', # source directory for image data\n",
    "    target_size=(300, 300),\n",
    "    batch_size=32,\n",
    "    class_mode='binary'\n",
    ")"
   ]
  },
  {
   "cell_type": "code",
   "execution_count": 26,
   "metadata": {},
   "outputs": [
    {
     "name": "stdout",
     "output_type": "stream",
     "text": [
      "Epoch 1/20\n",
      "8/8 [==============================] - 69s 8s/step - loss: 0.3233 - accuracy: 0.8632 - val_loss: 1.5420 - val_accuracy: 0.6992\n",
      "Epoch 2/20\n",
      "8/8 [==============================] - 67s 10s/step - loss: 0.3404 - accuracy: 0.8432 - val_loss: 2.2339 - val_accuracy: 0.6016\n",
      "Epoch 3/20\n",
      "8/8 [==============================] - 62s 7s/step - loss: 0.2635 - accuracy: 0.8854 - val_loss: 4.9171 - val_accuracy: 0.5430\n",
      "Epoch 4/20\n",
      "8/8 [==============================] - 61s 7s/step - loss: 0.3626 - accuracy: 0.8643 - val_loss: 1.3167 - val_accuracy: 0.7266\n",
      "Epoch 5/20\n",
      "8/8 [==============================] - 61s 7s/step - loss: 0.2635 - accuracy: 0.8899 - val_loss: 1.0334 - val_accuracy: 0.7031\n",
      "Epoch 6/20\n",
      "8/8 [==============================] - 61s 7s/step - loss: 0.3505 - accuracy: 0.8721 - val_loss: 1.3288 - val_accuracy: 0.7578\n",
      "Epoch 7/20\n",
      "8/8 [==============================] - 64s 9s/step - loss: 0.3527 - accuracy: 0.8621 - val_loss: 1.6797 - val_accuracy: 0.6602\n",
      "Epoch 8/20\n",
      "8/8 [==============================] - 61s 9s/step - loss: 0.1642 - accuracy: 0.9299 - val_loss: 1.8466 - val_accuracy: 0.7109\n",
      "Epoch 9/20\n",
      "8/8 [==============================] - 61s 7s/step - loss: 0.2912 - accuracy: 0.8865 - val_loss: 1.0319 - val_accuracy: 0.8125\n",
      "Epoch 10/20\n",
      "8/8 [==============================] - 1040s 147s/step - loss: 0.2106 - accuracy: 0.9199 - val_loss: 1.3954 - val_accuracy: 0.7812\n",
      "Epoch 11/20\n",
      "8/8 [==============================] - 69s 9s/step - loss: 0.6286 - accuracy: 0.8888 - val_loss: 1.1536 - val_accuracy: 0.6172\n",
      "Epoch 12/20\n",
      "8/8 [==============================] - 70s 8s/step - loss: 0.1784 - accuracy: 0.9434 - val_loss: 1.4467 - val_accuracy: 0.7109\n",
      "Epoch 13/20\n",
      "8/8 [==============================] - 62s 7s/step - loss: 0.4002 - accuracy: 0.8765 - val_loss: 1.4284 - val_accuracy: 0.6523\n",
      "Epoch 14/20\n",
      "8/8 [==============================] - 61s 7s/step - loss: 0.1421 - accuracy: 0.9488 - val_loss: 2.2833 - val_accuracy: 0.6562\n",
      "Epoch 15/20\n",
      "8/8 [==============================] - 63s 7s/step - loss: 0.1696 - accuracy: 0.9399 - val_loss: 1.3427 - val_accuracy: 0.7266\n",
      "Epoch 16/20\n",
      "8/8 [==============================] - 63s 7s/step - loss: 0.3394 - accuracy: 0.8854 - val_loss: 1.0694 - val_accuracy: 0.7656\n",
      "Epoch 17/20\n",
      "8/8 [==============================] - 61s 7s/step - loss: 0.1609 - accuracy: 0.9433 - val_loss: 2.1525 - val_accuracy: 0.7070\n",
      "Epoch 18/20\n",
      "8/8 [==============================] - 60s 7s/step - loss: 0.9846 - accuracy: 0.8687 - val_loss: 2.1263 - val_accuracy: 0.5898\n",
      "Epoch 19/20\n",
      "8/8 [==============================] - 69s 8s/step - loss: 0.1589 - accuracy: 0.9541 - val_loss: 2.0114 - val_accuracy: 0.7188\n",
      "Epoch 20/20\n",
      "8/8 [==============================] - 65s 8s/step - loss: 0.0968 - accuracy: 0.9622 - val_loss: 2.2986 - val_accuracy: 0.7656\n"
     ]
    }
   ],
   "source": [
    "EPOCHS=20\n",
    "\n",
    "history = model.fit(\n",
    "    train_generator, \n",
    "    steps_per_epoch=8,\n",
    "    epochs=EPOCHS,\n",
    "    verbose=1,\n",
    "    validation_data=validation_generator,\n",
    "    validation_steps=8\n",
    ")"
   ]
  },
  {
   "cell_type": "code",
   "execution_count": 29,
   "metadata": {},
   "outputs": [
    {
     "data": {
      "image/png": "[encoded data removed]",
      "text/plain": [
       "<Figure size 432x288 with 1 Axes>"
      ]
     },
     "metadata": {
      "needs_background": "light"
     },
     "output_type": "display_data"
    },
    {
     "data": {
      "image/png": "[encoded data removed]",
      "text/plain": [
       "<Figure size 432x288 with 1 Axes>"
      ]
     },
     "metadata": {
      "needs_background": "light"
     },
     "output_type": "display_data"
    }
   ],
   "source": [
    "import matplotlib.pyplot as plt\n",
    "\n",
    "# Plot the model results\n",
    "acc = history.history['accuracy']\n",
    "val_acc = history.history['val_accuracy']\n",
    "loss = history.history['loss']\n",
    "val_loss = history.history['val_loss']\n",
    "\n",
    "epochs = range(len(acc))\n",
    "\n",
    "plt.plot(epochs, acc, 'r', label='Training accuracy')\n",
    "plt.plot(epochs, val_acc, 'b', label='Validation accuracy')\n",
    "plt.title('Training and validation accuracy')\n",
    "plt.legend()\n",
    "plt.figure()\n",
    "\n",
    "plt.plot(epochs, loss, 'r', label='Training Loss')\n",
    "plt.plot(epochs, val_loss, 'b', label='Validation Loss')\n",
    "plt.title('Training and validation loss')\n",
    "plt.legend()\n",
    "\n",
    "plt.show()"
   ]
  }
 ],
 "metadata": {
  "kernelspec": {
   "display_name": "Python 3",
   "language": "python",
   "name": "python3"
  },
  "language_info": {
   "codemirror_mode": {
    "name": "ipython",
    "version": 3
   },
   "file_extension": ".py",
   "mimetype": "text/x-python",
   "name": "python",
   "nbconvert_exporter": "python",
   "pygments_lexer": "ipython3",
   "version": "3.9.6"
  }
 },
 "nbformat": 4,
 "nbformat_minor": 2
}
