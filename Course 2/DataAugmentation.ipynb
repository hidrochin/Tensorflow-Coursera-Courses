{
 "cells": [
  {
   "cell_type": "code",
   "execution_count": 4,
   "metadata": {},
   "outputs": [],
   "source": [
    "import os\n",
    "\n",
    "base_dir = './cats_and_dogs_filtered'\n",
    "train_dir = os.path.join(base_dir, 'train')\n",
    "validation_dir = os.path.join(base_dir, 'validation')\n",
    "\n",
    "train_cats_dir = os.path.join(train_dir, 'cats')\n",
    "train_dogs_dir = os.path.join(train_dir, 'dogs')\n",
    "\n",
    "validation_cats_dir = os.path.join(validation_dir, 'cats')\n",
    "validation_dogs_dir = os.path.join(validation_dir, 'dogs')"
   ]
  },
  {
   "cell_type": "code",
   "execution_count": 6,
   "metadata": {},
   "outputs": [],
   "source": [
    "import tensorflow as tf\n",
    "from tensorflow.keras.optimizers import RMSprop\n",
    "\n",
    "def create_model():\n",
    "    model = tf.keras.models.Sequential([\n",
    "        # 4 layers of convolution\n",
    "        tf.keras.layers.Conv2D(32, (3,3), activation='relu', input_shape=(150, 150, 3)),\n",
    "        tf.keras.layers.MaxPooling2D(2,2),\n",
    "        tf.keras.layers.Conv2D(64, (3,3), activation='relu'),\n",
    "        tf.keras.layers.MaxPooling2D(2,2),\n",
    "        tf.keras.layers.Conv2D(128, (3,3)),\n",
    "        tf.keras.layers.MaxPooling2D(2,2),\n",
    "        tf.keras.layers.Conv2D(128, (3, 3)),\n",
    "        tf.keras.layers.MaxPooling2D(2,2),\n",
    "        tf.keras.layers.Flatten(),\n",
    "        tf.keras.layers.Dense(512, activation='relu'),\n",
    "        tf.keras.layers.Dense(1, activation='sigmoid')  \n",
    "    ])\n",
    "\n",
    "    model.compile(loss='binary_crossentropy',\n",
    "                  optimizer=RMSprop(learning_rate=1e-4),\n",
    "                  metrics='accuracy')\n",
    "\n",
    "    return model"
   ]
  },
  {
   "cell_type": "code",
   "execution_count": 3,
   "metadata": {},
   "outputs": [
    {
     "name": "stdout",
     "output_type": "stream",
     "text": [
      "Model: \"sequential\"\n",
      "_________________________________________________________________\n",
      " Layer (type)                Output Shape              Param #   \n",
      "=================================================================\n",
      " conv2d (Conv2D)             (None, 148, 148, 32)      896       \n",
      "                                                                 \n",
      " max_pooling2d (MaxPooling2  (None, 74, 74, 32)        0         \n",
      " D)                                                              \n",
      "                                                                 \n",
      " conv2d_1 (Conv2D)           (None, 72, 72, 64)        18496     \n",
      "                                                                 \n",
      " max_pooling2d_1 (MaxPoolin  (None, 36, 36, 64)        0         \n",
      " g2D)                                                            \n",
      "                                                                 \n",
      " conv2d_2 (Conv2D)           (None, 34, 34, 128)       73856     \n",
      "                                                                 \n",
      " max_pooling2d_2 (MaxPoolin  (None, 17, 17, 128)       0         \n",
      " g2D)                                                            \n",
      "                                                                 \n",
      " conv2d_3 (Conv2D)           (None, 15, 15, 128)       147584    \n",
      "                                                                 \n",
      " max_pooling2d_3 (MaxPoolin  (None, 7, 7, 128)         0         \n",
      " g2D)                                                            \n",
      "                                                                 \n",
      " flatten (Flatten)           (None, 6272)              0         \n",
      "                                                                 \n",
      " dense (Dense)               (None, 512)               3211776   \n",
      "                                                                 \n",
      " dense_1 (Dense)             (None, 1)                 513       \n",
      "                                                                 \n",
      "=================================================================\n",
      "Total params: 3453121 (13.17 MB)\n",
      "Trainable params: 3453121 (13.17 MB)\n",
      "Non-trainable params: 0 (0.00 Byte)\n",
      "_________________________________________________________________\n"
     ]
    }
   ],
   "source": [
    "model = create_model()\n",
    "model.summary()"
   ]
  },
  {
   "cell_type": "code",
   "execution_count": 7,
   "metadata": {},
   "outputs": [
    {
     "name": "stdout",
     "output_type": "stream",
     "text": [
      "Found 2000 images belonging to 2 classes.\n",
      "Found 1000 images belonging to 2 classes.\n"
     ]
    }
   ],
   "source": [
    "from tensorflow.keras.preprocessing.image import ImageDataGenerator\n",
    "\n",
    "train_datagen = ImageDataGenerator(rescale=1./255)\n",
    "validation_datagen = ImageDataGenerator(rescale=1./255)\n",
    "\n",
    "train_generator = train_datagen.flow_from_directory(\n",
    "    train_dir,\n",
    "    target_size =(150,150),\n",
    "    batch_size=20,\n",
    "    class_mode='binary'\n",
    ")\n",
    "\n",
    "validation_generator = validation_datagen.flow_from_directory(\n",
    "    validation_dir,\n",
    "    target_size=(150, 150),\n",
    "    batch_size=20,\n",
    "    class_mode='binary'\n",
    ")"
   ]
  },
  {
   "cell_type": "code",
   "execution_count": 9,
   "metadata": {},
   "outputs": [
    {
     "name": "stdout",
     "output_type": "stream",
     "text": [
      "Epoch 1/20\n",
      "100/100 - 76s - loss: 0.6848 - accuracy: 0.5475 - val_loss: 0.6687 - val_accuracy: 0.5570 - 76s/epoch - 758ms/step\n",
      "Epoch 2/20\n",
      "100/100 - 54s - loss: 0.6527 - accuracy: 0.6130 - val_loss: 0.6320 - val_accuracy: 0.6200 - 54s/epoch - 543ms/step\n",
      "Epoch 3/20\n",
      "100/100 - 50s - loss: 0.6018 - accuracy: 0.6685 - val_loss: 0.5937 - val_accuracy: 0.6780 - 50s/epoch - 504ms/step\n",
      "Epoch 4/20\n",
      "100/100 - 51s - loss: 0.5577 - accuracy: 0.7070 - val_loss: 0.5884 - val_accuracy: 0.6820 - 51s/epoch - 507ms/step\n",
      "Epoch 5/20\n",
      "100/100 - 51s - loss: 0.5301 - accuracy: 0.7285 - val_loss: 0.5766 - val_accuracy: 0.6820 - 51s/epoch - 512ms/step\n",
      "Epoch 6/20\n",
      "100/100 - 50s - loss: 0.5047 - accuracy: 0.7465 - val_loss: 0.5956 - val_accuracy: 0.6740 - 50s/epoch - 501ms/step\n",
      "Epoch 7/20\n",
      "100/100 - 51s - loss: 0.4867 - accuracy: 0.7600 - val_loss: 0.5651 - val_accuracy: 0.7030 - 51s/epoch - 506ms/step\n",
      "Epoch 8/20\n",
      "100/100 - 50s - loss: 0.4601 - accuracy: 0.7780 - val_loss: 0.5744 - val_accuracy: 0.7040 - 50s/epoch - 501ms/step\n",
      "Epoch 9/20\n",
      "100/100 - 49s - loss: 0.4379 - accuracy: 0.8020 - val_loss: 0.5691 - val_accuracy: 0.7110 - 49s/epoch - 495ms/step\n",
      "Epoch 10/20\n",
      "100/100 - 50s - loss: 0.4114 - accuracy: 0.8130 - val_loss: 0.5639 - val_accuracy: 0.7070 - 50s/epoch - 501ms/step\n",
      "Epoch 11/20\n",
      "100/100 - 50s - loss: 0.3810 - accuracy: 0.8350 - val_loss: 0.5563 - val_accuracy: 0.7090 - 50s/epoch - 501ms/step\n",
      "Epoch 12/20\n",
      "100/100 - 49s - loss: 0.3444 - accuracy: 0.8610 - val_loss: 0.5569 - val_accuracy: 0.7140 - 49s/epoch - 485ms/step\n",
      "Epoch 13/20\n",
      "100/100 - 48s - loss: 0.3120 - accuracy: 0.8765 - val_loss: 0.5823 - val_accuracy: 0.7130 - 48s/epoch - 483ms/step\n",
      "Epoch 14/20\n",
      "100/100 - 49s - loss: 0.2784 - accuracy: 0.8965 - val_loss: 0.5911 - val_accuracy: 0.7160 - 49s/epoch - 486ms/step\n",
      "Epoch 15/20\n",
      "100/100 - 48s - loss: 0.2425 - accuracy: 0.9180 - val_loss: 0.5931 - val_accuracy: 0.7280 - 48s/epoch - 482ms/step\n",
      "Epoch 16/20\n",
      "100/100 - 49s - loss: 0.2072 - accuracy: 0.9355 - val_loss: 0.6141 - val_accuracy: 0.7240 - 49s/epoch - 493ms/step\n",
      "Epoch 17/20\n",
      "100/100 - 52s - loss: 0.1721 - accuracy: 0.9510 - val_loss: 0.6945 - val_accuracy: 0.7280 - 52s/epoch - 516ms/step\n",
      "Epoch 18/20\n",
      "100/100 - 51s - loss: 0.1456 - accuracy: 0.9555 - val_loss: 0.7120 - val_accuracy: 0.7070 - 51s/epoch - 509ms/step\n",
      "Epoch 19/20\n",
      "100/100 - 51s - loss: 0.1207 - accuracy: 0.9645 - val_loss: 0.7245 - val_accuracy: 0.7300 - 51s/epoch - 514ms/step\n",
      "Epoch 20/20\n",
      "100/100 - 56s - loss: 0.0908 - accuracy: 0.9760 - val_loss: 0.7974 - val_accuracy: 0.7040 - 56s/epoch - 562ms/step\n"
     ]
    }
   ],
   "source": [
    "EPOCHS=20\n",
    "\n",
    "model = create_model()\n",
    "\n",
    "history = model.fit(\n",
    "    train_generator,\n",
    "    steps_per_epoch=100,\n",
    "    epochs=EPOCHS,\n",
    "    validation_data=validation_generator,\n",
    "    validation_steps=50,\n",
    "    verbose=2\n",
    ")"
   ]
  },
  {
   "cell_type": "code",
   "execution_count": 18,
   "metadata": {},
   "outputs": [],
   "source": [
    "import matplotlib.pyplot as plt\n",
    "\n",
    "def plot_loss_acc(history):\n",
    "    acc = history.history['accuracy']\n",
    "    val_acc = history.history['val_accuracy']\n",
    "    loss = history.history['loss']\n",
    "    val_loss = history.history['val_loss']\n",
    "\n",
    "    epochs = range(len(acc))\n",
    "\n",
    "    plt.plot(epochs, acc, 'bo', label='Training accuraccy')\n",
    "    plt.plot(epochs, val_acc, 'b', label='Validation accuracy')\n",
    "    plt.title('Training and validation accuracy')\n",
    "    plt.figure()\n",
    "\n",
    "    plt.plot(epochs, loss, 'bo', label='Training loss')\n",
    "    plt.plot(epochs, val_loss, 'b', label='Validation loss')\n",
    "    plt.title('Training and validation accuracy')\n",
    "    plt.legend()\n",
    "\n",
    "    plt.show()"
   ]
  },
  {
   "cell_type": "code",
   "execution_count": 16,
   "metadata": {},
   "outputs": [
    {
     "name": "stdout",
     "output_type": "stream",
     "text": [
      "20\n",
      "20\n"
     ]
    },
    {
     "data": {
      "image/png": "[encoded data removed]",
      "text/plain": [
       "<Figure size 432x288 with 1 Axes>"
      ]
     },
     "metadata": {
      "needs_background": "light"
     },
     "output_type": "display_data"
    },
    {
     "data": {
      "image/png": "[encoded data removed]",
      "text/plain": [
       "<Figure size 432x288 with 1 Axes>"
      ]
     },
     "metadata": {
      "needs_background": "light"
     },
     "output_type": "display_data"
    }
   ],
   "source": [
    "plot_loss_acc(history)"
   ]
  },
  {
   "cell_type": "markdown",
   "metadata": {},
   "source": [
    "### Data augumentation\n",
    "One simple method to avoid overfitting is to augment the images a bit. If you think about it, most pictures of a cat are very similar -- the ears are at the top, then the eyes, then the mouth etc. Things like the distance between the eyes and ears will always be quite similar too.\n",
    "\n",
    "What if you tweak with the images a bit -- rotate the image, squash it, etc. That's what image augementation is all about. And there's an API that makes it easy!\n",
    "\n",
    "Take a look at the ImageDataGenerator which you have been using to rescale the image. There are other properties on it that you can use to augment the image.\n",
    "```# Updated to do image augmentation\n",
    "train_datagen = ImageDataGenerator(\n",
    "      rotation_range=40,\n",
    "      width_shift_range=0.2,\n",
    "      height_shift_range=0.2,\n",
    "      shear_range=0.2,\n",
    "      zoom_range=0.2,\n",
    "      horizontal_flip=True,\n",
    "      fill_mode='nearest')\n",
    "```  \n",
    "\n",
    "These are just a few of the options available. Let's quickly go over it:\n",
    "\n",
    "- rotation_range is a value in degrees (0–180) within which to randomly rotate pictures.\n",
    "- width_shift and height_shift are ranges (as a fraction of total width or height) within which to randomly translate pictures vertically or horizontally.\n",
    "- shear_range is for randomly applying shearing transformations.\n",
    "- zoom_range is for randomly zooming inside pictures.\n",
    "- horizontal_flip is for randomly flipping half of the images horizontally. This is relevant when there are no assumptions of horizontal assymmetry (e.g. real-world pictures).\n",
    "- fill_mode is the strategy used for filling in newly created pixels, which can appear after a rotation or a width/height shift.\n",
    "Run the next cells to see the impact on the results. The code is similar to the baseline but the definition of train_datagen has been updated to use the parameters described above."
   ]
  },
  {
   "cell_type": "code",
   "execution_count": 13,
   "metadata": {},
   "outputs": [
    {
     "name": "stdout",
     "output_type": "stream",
     "text": [
      "Found 2000 images belonging to 2 classes.\n",
      "Found 1000 images belonging to 2 classes.\n",
      "Epoch 1/20\n",
      "100/100 - 57s - loss: 0.6907 - accuracy: 0.5200 - val_loss: 0.6677 - val_accuracy: 0.6070 - 57s/epoch - 571ms/step\n",
      "Epoch 2/20\n",
      "100/100 - 56s - loss: 0.6689 - accuracy: 0.5795 - val_loss: 0.6673 - val_accuracy: 0.5480 - 56s/epoch - 565ms/step\n",
      "Epoch 3/20\n",
      "100/100 - 53s - loss: 0.6558 - accuracy: 0.5825 - val_loss: 0.6351 - val_accuracy: 0.6310 - 53s/epoch - 525ms/step\n",
      "Epoch 4/20\n",
      "100/100 - 50s - loss: 0.6448 - accuracy: 0.6195 - val_loss: 0.6083 - val_accuracy: 0.6650 - 50s/epoch - 503ms/step\n",
      "Epoch 5/20\n",
      "100/100 - 50s - loss: 0.6303 - accuracy: 0.6380 - val_loss: 0.5998 - val_accuracy: 0.6670 - 50s/epoch - 500ms/step\n",
      "Epoch 6/20\n",
      "100/100 - 50s - loss: 0.6195 - accuracy: 0.6495 - val_loss: 0.5814 - val_accuracy: 0.6980 - 50s/epoch - 502ms/step\n",
      "Epoch 7/20\n",
      "100/100 - 50s - loss: 0.5977 - accuracy: 0.6760 - val_loss: 0.5817 - val_accuracy: 0.6880 - 50s/epoch - 497ms/step\n",
      "Epoch 8/20\n",
      "100/100 - 50s - loss: 0.6032 - accuracy: 0.6605 - val_loss: 0.5919 - val_accuracy: 0.6800 - 50s/epoch - 502ms/step\n",
      "Epoch 9/20\n",
      "100/100 - 50s - loss: 0.5891 - accuracy: 0.6885 - val_loss: 0.5597 - val_accuracy: 0.7200 - 50s/epoch - 496ms/step\n",
      "Epoch 10/20\n",
      "100/100 - 49s - loss: 0.5915 - accuracy: 0.6660 - val_loss: 0.5955 - val_accuracy: 0.6790 - 49s/epoch - 488ms/step\n",
      "Epoch 11/20\n",
      "100/100 - 54s - loss: 0.5873 - accuracy: 0.6825 - val_loss: 0.5430 - val_accuracy: 0.7200 - 54s/epoch - 544ms/step\n",
      "Epoch 12/20\n",
      "100/100 - 49s - loss: 0.5772 - accuracy: 0.6900 - val_loss: 0.5511 - val_accuracy: 0.6950 - 49s/epoch - 492ms/step\n",
      "Epoch 13/20\n",
      "100/100 - 49s - loss: 0.5689 - accuracy: 0.6995 - val_loss: 0.5496 - val_accuracy: 0.7080 - 49s/epoch - 486ms/step\n",
      "Epoch 14/20\n",
      "100/100 - 49s - loss: 0.5696 - accuracy: 0.6850 - val_loss: 0.5339 - val_accuracy: 0.7290 - 49s/epoch - 490ms/step\n",
      "Epoch 15/20\n",
      "100/100 - 48s - loss: 0.5582 - accuracy: 0.7050 - val_loss: 0.5244 - val_accuracy: 0.7290 - 48s/epoch - 484ms/step\n",
      "Epoch 16/20\n",
      "100/100 - 48s - loss: 0.5471 - accuracy: 0.7220 - val_loss: 0.5363 - val_accuracy: 0.7080 - 48s/epoch - 479ms/step\n",
      "Epoch 17/20\n",
      "100/100 - 49s - loss: 0.5422 - accuracy: 0.7175 - val_loss: 0.5187 - val_accuracy: 0.7420 - 49s/epoch - 490ms/step\n",
      "Epoch 18/20\n",
      "100/100 - 49s - loss: 0.5483 - accuracy: 0.7020 - val_loss: 0.5238 - val_accuracy: 0.7260 - 49s/epoch - 494ms/step\n",
      "Epoch 19/20\n",
      "100/100 - 49s - loss: 0.5459 - accuracy: 0.7215 - val_loss: 0.5203 - val_accuracy: 0.7280 - 49s/epoch - 487ms/step\n",
      "Epoch 20/20\n",
      "100/100 - 50s - loss: 0.5345 - accuracy: 0.7295 - val_loss: 0.5452 - val_accuracy: 0.7330 - 50s/epoch - 503ms/step\n"
     ]
    }
   ],
   "source": [
    "mode_for_aug = create_model()\n",
    "\n",
    "train_datagen = ImageDataGenerator(\n",
    "    rescale=1./255,\n",
    "    rotation_range=40,\n",
    "    width_shift_range=0.2,\n",
    "    height_shift_range=0.2,\n",
    "    shear_range=0.2,\n",
    "    zoom_range=0.2,\n",
    "    horizontal_flip=True,\n",
    "    fill_mode='nearest'\n",
    ")\n",
    "\n",
    "train_generator = train_datagen.flow_from_directory(\n",
    "    train_dir,\n",
    "    target_size =(150,150),\n",
    "    batch_size=20,\n",
    "    class_mode='binary'\n",
    ")\n",
    "\n",
    "validation_generator = validation_datagen.flow_from_directory(\n",
    "    validation_dir,\n",
    "    target_size=(150, 150),\n",
    "    batch_size=20,\n",
    "    class_mode='binary'\n",
    ")\n",
    "\n",
    "#train with new model\n",
    "history_with_aug = mode_for_aug.fit(\n",
    "    train_generator,\n",
    "    steps_per_epoch=100,\n",
    "    epochs=EPOCHS,\n",
    "    validation_data=validation_generator,\n",
    "    validation_steps=50,\n",
    "    verbose=2\n",
    ")"
   ]
  },
  {
   "cell_type": "code",
   "execution_count": 14,
   "metadata": {},
   "outputs": [
    {
     "data": {
      "image/png": "[encoded data removed]",
      "text/plain": [
       "<Figure size 432x288 with 1 Axes>"
      ]
     },
     "metadata": {
      "needs_background": "light"
     },
     "output_type": "display_data"
    },
    {
     "data": {
      "image/png": "[encoded data removed]",
      "text/plain": [
       "<Figure size 432x288 with 1 Axes>"
      ]
     },
     "metadata": {
      "needs_background": "light"
     },
     "output_type": "display_data"
    }
   ],
   "source": [
    "\n",
    "plot_loss_acc(history_with_aug)"
   ]
  }
 ],
 "metadata": {
  "kernelspec": {
   "display_name": "Python 3",
   "language": "python",
   "name": "python3"
  },
  "language_info": {
   "codemirror_mode": {
    "name": "ipython",
    "version": 3
   },
   "file_extension": ".py",
   "mimetype": "text/x-python",
   "name": "python",
   "nbconvert_exporter": "python",
   "pygments_lexer": "ipython3",
   "version": "3.9.6"
  }
 },
 "nbformat": 4,
 "nbformat_minor": 2
}
